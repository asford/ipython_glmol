{
 "metadata": {
  "name": ""
 },
 "nbformat": 3,
 "nbformat_minor": 0,
 "worksheets": [
  {
   "cells": [
    {
     "cell_type": "code",
     "collapsed": false,
     "input": [
      "import logging; logging.root.setLevel(logging.INFO)"
     ],
     "language": "python",
     "metadata": {},
     "outputs": []
    },
    {
     "cell_type": "code",
     "collapsed": false,
     "input": [
      "import ipython_glmol"
     ],
     "language": "python",
     "metadata": {},
     "outputs": []
    },
    {
     "cell_type": "code",
     "collapsed": false,
     "input": [
      "import urllib2"
     ],
     "language": "python",
     "metadata": {},
     "outputs": []
    },
    {
     "cell_type": "code",
     "collapsed": false,
     "input": [
      "pdb_lines = urllib2.urlopen(\"http://www.rcsb.org/pdb/files/1sfc.pdb\").readlines()\n",
      "pdb_lines = [l.strip() for l in pdb_lines if l.startswith(\"ATOM\")]"
     ],
     "language": "python",
     "metadata": {},
     "outputs": []
    },
    {
     "cell_type": "code",
     "collapsed": false,
     "input": [
      "full_embed = full_embed =ipython_glmol.PDBEmbed(\n",
      "    \"\\n\".join(pdb_lines + [\"\"]),\n",
      "    \"sphere: atom 1-10000\\nbgcolor:000000\\n\")\n",
      "\n",
      "test_embed = ipython_glmol.PDBEmbed(ipython_glmol.test_pdb_data, ipython_glmol.test_repr_data)"
     ],
     "language": "python",
     "metadata": {},
     "outputs": []
    },
    {
     "cell_type": "code",
     "collapsed": false,
     "input": [
      "full_embed"
     ],
     "language": "python",
     "metadata": {},
     "outputs": []
    },
    {
     "cell_type": "code",
     "collapsed": false,
     "input": [
      "test_embed"
     ],
     "language": "python",
     "metadata": {},
     "outputs": []
    },
    {
     "cell_type": "code",
     "collapsed": false,
     "input": [
      "with open(\"full_embed.html\", \"w\") as f_out:\n",
      "    f_out.write(full_embed.dump_html())"
     ],
     "language": "python",
     "metadata": {},
     "outputs": []
    }
   ],
   "metadata": {}
  }
 ]
}