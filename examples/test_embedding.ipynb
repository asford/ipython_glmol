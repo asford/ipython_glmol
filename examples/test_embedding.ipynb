{
 "metadata": {
  "name": ""
 },
 "nbformat": 3,
 "nbformat_minor": 0,
 "worksheets": [
  {
   "cells": [
    {
     "cell_type": "code",
     "collapsed": false,
     "input": [
      "import logging; logging.root.setLevel(logging.INFO)"
     ],
     "language": "python",
     "metadata": {},
     "outputs": [],
     "prompt_number": 1
    },
    {
     "cell_type": "code",
     "collapsed": false,
     "input": [
      "import sys; sys.path.append(\"..\")"
     ],
     "language": "python",
     "metadata": {},
     "outputs": [],
     "prompt_number": 2
    },
    {
     "cell_type": "code",
     "collapsed": false,
     "input": [
      "import ipython_glmol"
     ],
     "language": "python",
     "metadata": {},
     "outputs": [
      {
       "output_type": "stream",
       "stream": "stderr",
       "text": [
        "INFO:glmol_embed.setup_js:Removing existing glmol: /Volumes/TygerCore/Users/asford/.ipython/profile_default/static/glmol\n"
       ]
      },
      {
       "output_type": "stream",
       "stream": "stderr",
       "text": [
        "INFO:glmol_embed.setup_js:Writing glmol: /Volumes/TygerCore/Users/asford/.ipython/profile_default/static/glmol/GLmol.full.devel.js\n"
       ]
      },
      {
       "output_type": "stream",
       "stream": "stderr",
       "text": [
        "INFO:glmol_embed.setup_js:do_setup({'target_files': ['../ipython_glmol/../GLmol/src/js/csscolorparser.js', '../ipython_glmol/../GLmol/src/js/three.js', '../ipython_glmol/../GLmol/src/js/GLmol.js'], 'js_filter': None})\n"
       ]
      }
     ],
     "prompt_number": 3
    },
    {
     "cell_type": "code",
     "collapsed": false,
     "input": [
      "ipython_glmol.PDBEmbed(\n",
      "    ipython_glmol.test_pdb_data,\n",
      "    ipython_glmol.test_repr_data)"
     ],
     "language": "python",
     "metadata": {},
     "outputs": [
      {
       "javascript": [
        "$.getScript(\"static/glmol/GLmol.full.devel.js\", function () {\n",
        "\n",
        "        element.append('<div id=\"glmod_123509001032794235881586370806051610150\" style=\"width: auto; height:10in\"></div>');\n",
        "\n",
        "        console.log(\"Created elements.\");\n",
        "        container.show();\n",
        "\n",
        "\n",
        "        element.append('        <textarea  wrap=\"off\" id=\"glmod_123509001032794235881586370806051610150_src\" style=\"display:none;\">' + '\\n' + '        ' + '\\n' + 'ATOM      1  N   GLY A   2      35.259  38.537  16.817  1.00 30.55           N  ' + '\\n' + 'ATOM      2  CA  GLY A   2      35.919  39.084  15.596  1.00 30.30           C  ' + '\\n' + 'ATOM      3  C   GLY A   2      36.635  40.408  15.809  1.00 29.96           C  ' + '\\n' + 'ATOM      4  O   GLY A   2      37.109  41.023  14.854  1.00 30.60           O  ' + '\\n' + 'ATOM      5  N   LYS A   3      36.742  40.840  17.065  1.00 29.25           N  ' + '\\n' + 'ATOM      6  CA  LYS A   3      37.296  42.161  17.377  1.00 27.98           C  ' + '\\n' + 'ATOM      7  C   LYS A   3      38.767  42.155  17.787  1.00 27.26           C  ' + '\\n' + 'ATOM      8  O   LYS A   3      39.188  41.380  18.634  1.00 27.48           O  ' + '\\n' + 'ATOM      9  CB  LYS A   3      36.463  42.862  18.455  1.00 28.09           C  ' + '\\n' + 'ATOM     10  CG  LYS A   3      35.019  43.161  18.059  1.00 27.40           C  ' + '\\n' + 'ATOM     11  CD  LYS A   3      34.938  44.234  16.985  1.00 26.55           C  ' + '\\n' + 'ATOM     12  CE  LYS A   3      33.497  44.539  16.635  1.00 26.73           C  ' + '\\n' + 'ATOM     13  NZ  LYS A   3      33.331  45.206  15.307  1.00 25.20           N1+' + '\\n' + 'ATOM     14  N   SER A   4      39.531  43.047  17.168  1.00 26.05           N  ' + '\\n' + 'ATOM     15  CA  SER A   4      40.904  43.292  17.537  1.00 24.61           C  ' + '\\n' + 'ATOM     16  C   SER A   4      41.020  44.777  17.878  1.00 23.52           C  ' + '\\n' + 'ATOM     17  O   SER A   4      41.208  45.603  16.987  1.00 23.44           O  ' + '\\n' + 'ATOM     18  CB  SER A   4      41.813  42.951  16.363  1.00 25.06           C  ' + '\\n' + 'ATOM     19  OG  SER A   4      43.164  43.074  16.751  1.00 26.61           O  ' + '\\n' + 'ATOM     20  N   TYR A   5      40.893  45.114  19.158  1.00 21.44           N  ' + '\\n' + 'ATOM     21  CA  TYR A   5      40.828  46.518  19.558  1.00 19.95           C  ' + '\\n' + 'ATOM     22  C   TYR A   5      42.193  47.198  19.470  1.00 19.91           C  ' + '\\n' + 'ATOM     23  O   TYR A   5      43.211  46.583  19.791  1.00 19.79           O  ' + '\\n' + 'ATOM     24  CB  TYR A   5      40.237  46.658  20.962  1.00 19.68           C  ' + '\\n' + 'ATOM     25  CG  TYR A   5      38.865  46.038  21.085  1.00 17.78           C  ' + '\\n' + 'ATOM     26  CD1 TYR A   5      37.752  46.642  20.496  1.00 15.68           C  ' + '\\n' + 'ATOM     27  CD2 TYR A   5      38.683  44.841  21.766  1.00 18.08           C  ' + '\\n' + 'ATOM     28  CE1 TYR A   5      36.491  46.079  20.607  1.00 15.31           C  ' + '\\n' + 'ATOM     29  CE2 TYR A   5      37.419  44.271  21.890  1.00 17.22           C  ' + '\\n' + 'ATOM     30  CZ  TYR A   5      36.330  44.888  21.290  1.00 16.52           C  ' + '\\n' + 'ATOM     31  OH  TYR A   5      35.083  44.326  21.398  1.00 16.14           O  ' + '\\n' + 'ATOM     32  N   PRO A   6      42.213  48.468  19.028  1.00 19.29           N  ' + '\\n' + 'ATOM     33  CA  PRO A   6      43.488  49.160  18.877  1.00 19.32           C  ' + '\\n' + 'ATOM     34  C   PRO A   6      44.110  49.530  20.228  1.00 19.13           C  ' + '\\n' + 'ATOM     35  O   PRO A   6      43.416  49.656  21.239  1.00 18.92           O  ' + '\\n' + 'ATOM     36  CB  PRO A   6      43.108  50.418  18.093  1.00 19.35           C  ' + '\\n' + 'ATOM     37  CG  PRO A   6      41.692  50.689  18.500  1.00 19.66           C  ' + '\\n' + 'ATOM     38  CD  PRO A   6      41.069  49.326  18.655  1.00 19.47           C  ' + '\\n' + 'ATOM     39  N   THR A   7      45.424  49.685  20.235  1.00 18.83           N  ' + '\\n' + 'ATOM     40  CA  THR A   7      46.113  50.224  21.386  1.00 18.73           C  ' + '\\n' + 'ATOM     41  C   THR A   7      45.872  51.735  21.418  1.00 17.61           C  ' + '\\n' + 'ATOM     42  O   THR A   7      45.934  52.414  20.370  1.00 17.00           O  ' + '\\n' + 'ATOM     43  CB  THR A   7      47.626  49.935  21.301  1.00 19.15           C  ' + '\\n' + 'ATOM     45  CG2 THR A   7      48.384  50.593  22.455  1.00 20.23           C  ' + '\\n' + 'ATOM     44  OG1 THR A   7      47.834  48.518  21.343  1.00 21.36           O  ' + '\\n' + 'ATOM     46  N   VAL A   8      45.550  52.235  22.609  1.00 15.80           N  ' + '\\n' + 'ATOM     47  CA  VAL A   8      45.543  53.671  22.884  1.00 15.09           C  ' + '\\n' + 'ATOM     48  C   VAL A   8      46.491  53.965  24.052  1.00 14.95           C  ' + '\\n' + 'ATOM     49  O   VAL A   8      46.751  53.088  24.899  1.00 15.53           O  ' + '\\n' + 'ATOM     50  CB  VAL A   8      44.122  54.226  23.147  1.00 14.98           C  ' + '\\n' + 'ATOM     51  CG1 VAL A   8      43.197  53.984  21.923  1.00 13.64           C  ' + '\\n' + 'ATOM     52  CG2 VAL A   8      43.525  53.630  24.427  1.00 13.52           C  ' + '\\n' + 'ATOM     53  N   SER A   9      46.996  55.196  24.112  1.00 14.69           N  ' + '\\n' + 'ATOM     54  CA  SER A   9      47.986  55.563  25.128  1.00 14.04           C  ' + '\\n' + 'ATOM     55  C   SER A   9      47.352  55.522  26.518  1.00 14.18           C  ' + '\\n' + 'ATOM     56  O   SER A   9      46.121  55.561  26.650  1.00 12.84           O  ' + '\\n' + 'ATOM     57  CB  SER A   9      48.511  56.972  24.867  1.00 14.01           C  ' + '\\n' + 'ATOM     58  OG  SER A   9      47.491  57.926  25.137  1.00 12.47           O  ' + '\\n' + 'ATOM     59  N   ALA A  10      48.200  55.475  27.543  1.00 14.43           N  ' + '\\n' + 'ATOM     60  CA  ALA A  10      47.739  55.572  28.926  1.00 14.82           C  ' + '\\n' + 'ATOM     61  C   ALA A  10      46.946  56.870  29.150  1.00 14.87           C  ' + '\\n' + 'ATOM     62  O   ALA A  10      45.911  56.858  29.835  1.00 14.80           O  ' + '\\n' + 'ATOM     63  CB  ALA A  10      48.931  55.498  29.884  1.00 15.41           C  ' + '\\n' + 'ATOM     64  N   ASP A  11      47.410  57.974  28.557  1.00 14.36           N  ' + '\\n' + 'ATOM     65  CA  ASP A  11      46.715  59.257  28.691  1.00 13.84           C  ' + '\\n' + 'ATOM     66  C   ASP A  11      45.322  59.168  28.091  1.00 12.60           C  ' + '\\n' + 'ATOM     67  O   ASP A  11      44.361  59.705  28.649  1.00 12.55           O  ' + '\\n' + 'ATOM     68  CB  ASP A  11      47.516  60.410  28.076  1.00 14.56           C  ' + '\\n' + 'ATOM     69  CG  ASP A  11      48.697  60.834  28.951  1.00 16.38           C  ' + '\\n' + 'ATOM     70  OD1 ASP A  11      48.722  60.505  30.159  1.00 20.25           O  ' + '\\n' + 'ATOM     71  OD2 ASP A  11      49.604  61.505  28.432  1.00 19.43           O1-' + '\\n' + 'ATOM     72  N   TYR A  12      45.204  58.468  26.960  1.00 11.65           N  ' + '\\n' + 'ATOM     73  CA  TYR A  12      43.878  58.268  26.352  1.00 10.62           C  ' + '\\n' + 'ATOM     74  C   TYR A  12      42.953  57.501  27.321  1.00 11.06           C  ' + '\\n' + 'ATOM     75  O   TYR A  12      41.804  57.912  27.562  1.00  9.92           O  ' + '\\n' + 'ATOM     76  CB  TYR A  12      43.986  57.535  25.012  1.00 10.68           C  ' + '\\n' + 'ATOM     77  CG  TYR A  12      42.756  57.699  24.138  1.00 10.46           C  ' + '\\n' + 'ATOM     78  CD1 TYR A  12      41.569  57.009  24.421  1.00 11.80           C  ' + '\\n' + 'ATOM     79  CD2 TYR A  12      42.778  58.546  23.023  1.00 10.97           C  ' + '\\n' + 'ATOM     80  CE1 TYR A  12      40.431  57.161  23.614  1.00 10.47           C  ' + '\\n' + 'ATOM     81  CE2 TYR A  12      41.654  58.707  22.214  1.00 10.55           C  ' + '\\n' + 'ATOM     82  CZ  TYR A  12      40.485  58.015  22.504  1.00 10.71           C  ' + '\\n' + 'END' + '\\n' + '        </textarea>' + '\\n' + '        ');\n",
        "        element.append('        <textarea  wrap=\"off\" id=\"glmod_123509001032794235881586370806051610150_rep\" style=\"display:none;\">' + '\\n' + '        ' + '\\n' + 'helix:atom 53-82' + '\\n' + 'ribbon:atom 1-82' + '\\n' + 'line:atom 1-82' + '\\n' + 'bgcolor:000000' + '\\n' + '        </textarea>' + '\\n' + '        ');\n",
        "\n",
        "\n",
        "        var glmod_123509001032794235881586370806051610150 = new GLmol('glmod_123509001032794235881586370806051610150', true);\n",
        "\n",
        "        console.log(\"Loaded GLmol as id: glmod_123509001032794235881586370806051610150.\");\n",
        "\n",
        "        function parseAndDefineRepresentation()\n",
        "          {\n",
        "              var all = this.getAllAtoms(),\n",
        "                  hetatm = this.getHetatms(all).filter(this.isNotSolvent);\n",
        "\n",
        "              this.colorByChain(all, true);\n",
        "              this.colorByAtom(this.atoms.filter(this.propertyIsnt(\"elem\", \"C\")), {});\n",
        "\n",
        "              this.parseRep(this.modelGroup, $('#glmod_123509001032794235881586370806051610150_rep').val());\n",
        "\n",
        "              this.drawAtomsAsSphere(this.modelGroup, hetatm, this.sphereRadius);\n",
        "              this.drawCartoon(this.modelGroup, all, this.curveWidth);\n",
        "          }\n",
        "\n",
        "        glmod_123509001032794235881586370806051610150.rebuildScene = function (repressDraw)\n",
        "          {\n",
        "              var time = new Date();\n",
        "\n",
        "              this.initializeScene();\n",
        "              this.defineRepresentation();\n",
        "\n",
        "              console.log(\"Built scene in \" + (new Date() - time) + \"ms\");\n",
        "\n",
        "              this.zoomInto(this.getAllAtoms())\n",
        "              \n",
        "              if (repressDraw)\n",
        "              {\n",
        "                return;\n",
        "              }\n",
        "              else\n",
        "              {\n",
        "                this.show();\n",
        "              }\n",
        "          };\n",
        "\n",
        "        glmod_123509001032794235881586370806051610150.defineRepresentation = parseAndDefineRepresentation;\n",
        "        glmod_123509001032794235881586370806051610150.loadMolecule(true);\n",
        "\n",
        "        $.data(element.children()[0], \"glmol\", glmod_123509001032794235881586370806051610150)\n",
        "        });\n"
       ],
       "metadata": {},
       "output_type": "pyout",
       "prompt_number": 4,
       "text": [
        "<ipython_glmol.glmol_embed.PDBEmbed at 0x10407d4d0>"
       ]
      }
     ],
     "prompt_number": 4
    }
   ],
   "metadata": {}
  }
 ]
}